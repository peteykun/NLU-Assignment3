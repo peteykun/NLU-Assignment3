{
 "cells": [
  {
   "cell_type": "code",
   "execution_count": 1,
   "metadata": {},
   "outputs": [],
   "source": [
    "import sqlite3\n",
    "import numpy as np"
   ]
  },
  {
   "cell_type": "code",
   "execution_count": 2,
   "metadata": {},
   "outputs": [],
   "source": [
    "conn = sqlite3.connect('sentence_bank.sqlite3')\n",
    "cursor = conn.cursor()\n",
    "cursor2 = conn.cursor()\n",
    "cursor3 = conn.cursor()"
   ]
  },
  {
   "cell_type": "markdown",
   "metadata": {},
   "source": [
    "Prepare Splits"
   ]
  },
  {
   "cell_type": "code",
   "execution_count": 3,
   "metadata": {},
   "outputs": [],
   "source": [
    "cursor.execute('SELECT id FROM sentences ORDER BY id;')\n",
    "sentence_ids = []\n",
    "\n",
    "for row in cursor:\n",
    "    sentence_ids += [row[0]]"
   ]
  },
  {
   "cell_type": "code",
   "execution_count": 4,
   "metadata": {},
   "outputs": [],
   "source": [
    "np.random.seed(1337)\n",
    "train = list(np.random.choice(sentence_ids, size=int(len(sentence_ids)*0.7), replace=False))\n",
    "valid = np.random.choice(list(set(sentence_ids) - set(train)), size=int(len(sentence_ids)*0.1), replace=False)\n",
    "test = list(set(sentence_ids) - set(train) - set(valid))"
   ]
  },
  {
   "cell_type": "code",
   "execution_count": 5,
   "metadata": {},
   "outputs": [
    {
     "name": "stdout",
     "output_type": "stream",
     "text": [
      "Splits: 2558 365 732\n",
      "3655\n"
     ]
    }
   ],
   "source": [
    "print 'Splits:', len(train), len(valid), len(test)\n",
    "print len(sentence_ids)"
   ]
  },
  {
   "cell_type": "markdown",
   "metadata": {},
   "source": [
    "Data file preparation"
   ]
  },
  {
   "cell_type": "code",
   "execution_count": 13,
   "metadata": {},
   "outputs": [],
   "source": [
    "train_file = open('features_train.txt', 'w')\n",
    "valid_file = open('features_valid.txt', 'w')\n",
    "test_file  = open('features_test.txt', 'w')\n",
    "\n",
    "for sentence_id, in cursor.execute('SELECT * FROM sentences;'):\n",
    "    sentence = []\n",
    "    cursor2.execute('''\n",
    "    SELECT words.word_id, word, pos_tag, tag\n",
    "    FROM words\n",
    "    JOIN pos_tags ON words.sentence_id = pos_tags.sentence_id AND words.word_id = pos_tags.word_id                       \n",
    "    WHERE words.sentence_id = ? ORDER BY words.word_id''', (sentence_id,))\n",
    "    \n",
    "    for row in cursor2:\n",
    "        result = []\n",
    "        word_id = row[0]\n",
    "        row = list(row[1:])\n",
    "        \n",
    "        # POS tags\n",
    "        row[1] = 'POS_' + row[1]\n",
    "            \n",
    "        result += [' '.join(row[:-1])]\n",
    "        \n",
    "        # other tags are retrieved here\n",
    "        for tag, in cursor3.execute('''\n",
    "        SELECT wordnet_tag FROM wordnet_tags\n",
    "        WHERE sentence_id = ? AND word_id = ?\n",
    "        ''', (sentence_id, word_id)):\n",
    "            result += ['WORDNET_' + tag]\n",
    "            \n",
    "#         for tag, in cursor3.execute('''\n",
    "#         SELECT DISTINCT mesh_type FROM mesh_tags\n",
    "#         WHERE sentence_id = ? AND word_id = ?\n",
    "#         ''', (sentence_id, word_id)):\n",
    "#             result += ['MESH_TYPE_' + tag]\n",
    "            \n",
    "#         for tag, in cursor3.execute('''\n",
    "#         SELECT DISTINCT mesh_keyword FROM mesh_tags\n",
    "#         WHERE sentence_id = ? AND word_id = ?\n",
    "#         ''', (sentence_id, word_id)):\n",
    "#             result += ['MESH_' + tag]\n",
    "        \n",
    "        result += [row[-1]]\n",
    "        sentence += [' '.join(result)]\n",
    "    \n",
    "    if sentence_id in train:\n",
    "        _file = train_file\n",
    "    if sentence_id in valid:\n",
    "        _file = valid_file\n",
    "    if sentence_id in test:\n",
    "        _file = test_file\n",
    "    \n",
    "    _file.write('\\n'.join(sentence).encode('ascii', 'ignore') + '\\n\\n')"
   ]
  },
  {
   "cell_type": "code",
   "execution_count": 14,
   "metadata": {},
   "outputs": [],
   "source": [
    "train_file.close()\n",
    "valid_file.close()\n",
    "test_file.close()"
   ]
  },
  {
   "cell_type": "code",
   "execution_count": null,
   "metadata": {},
   "outputs": [],
   "source": []
  }
 ],
 "metadata": {
  "kernelspec": {
   "display_name": "Python 2",
   "language": "python",
   "name": "python2"
  },
  "language_info": {
   "codemirror_mode": {
    "name": "ipython",
    "version": 2
   },
   "file_extension": ".py",
   "mimetype": "text/x-python",
   "name": "python",
   "nbconvert_exporter": "python",
   "pygments_lexer": "ipython2",
   "version": "2.7.14"
  }
 },
 "nbformat": 4,
 "nbformat_minor": 2
}
