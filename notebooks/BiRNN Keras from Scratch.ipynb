{
 "cells": [
  {
   "cell_type": "code",
   "execution_count": 1,
   "metadata": {
    "collapsed": false
   },
   "outputs": [
    {
     "name": "stderr",
     "output_type": "stream",
     "text": [
      "/home/soham/.env/local/lib/python2.7/site-packages/h5py/__init__.py:36: FutureWarning: Conversion of the second argument of issubdtype from `float` to `np.floating` is deprecated. In future, it will be treated as `np.float64 == np.dtype(float).type`.\n",
      "  from ._conv import register_converters as _register_converters\n",
      "Using TensorFlow backend.\n"
     ]
    }
   ],
   "source": [
    "import numpy as np, keras\n",
    "#from mr import mr\n",
    "from keras.utils import to_categorical\n",
    "from keras.models import Sequential\n",
    "from keras.layers import Dense, LSTM, GRU, Dropout, Bidirectional, TimeDistributed, Masking\n",
    "from keras.layers.embeddings import Embedding\n",
    "from keras.preprocessing import sequence"
   ]
  },
  {
   "cell_type": "code",
   "execution_count": 2,
   "metadata": {
    "collapsed": true
   },
   "outputs": [],
   "source": [
    "import tensorflow as tf\n",
    "from keras.backend.tensorflow_backend import set_session\n",
    "config = tf.ConfigProto()\n",
    "config.gpu_options.allow_growth=True\n",
    "set_session(tf.Session(config=config))"
   ]
  },
  {
   "cell_type": "code",
   "execution_count": 3,
   "metadata": {
    "collapsed": true
   },
   "outputs": [],
   "source": [
    "embedding_dim = 300"
   ]
  },
  {
   "cell_type": "code",
   "execution_count": 4,
   "metadata": {
    "collapsed": true
   },
   "outputs": [],
   "source": [
    "X_train = np.load('train_x.npy'); y_train = np.load('train_y.npy'); l_train = np.load('train_l.npy')\n",
    "X_valid = np.load('valid_x.npy'); y_valid = np.load('valid_y.npy'); l_valid = np.load('valid_l.npy')\n",
    "X_test  = np.load('test_x.npy' ); y_test  = np.load('test_y.npy' ); l_test  = np.load('test_l.npy' )"
   ]
  },
  {
   "cell_type": "code",
   "execution_count": 5,
   "metadata": {
    "collapsed": true
   },
   "outputs": [],
   "source": [
    "vocab_size = np.max(list(set.union(*[set(x) for x in X_train]))) + 1"
   ]
  },
  {
   "cell_type": "code",
   "execution_count": 6,
   "metadata": {
    "collapsed": true
   },
   "outputs": [],
   "source": [
    "max_length = len(X_train[0])"
   ]
  },
  {
   "cell_type": "code",
   "execution_count": 7,
   "metadata": {
    "collapsed": true
   },
   "outputs": [],
   "source": [
    "dictionary_fwd = np.load('dictionary_fwd.npy').item()"
   ]
  },
  {
   "cell_type": "code",
   "execution_count": 8,
   "metadata": {
    "collapsed": false
   },
   "outputs": [],
   "source": [
    "embedding_matrix = np.zeros((vocab_size, embedding_dim))"
   ]
  },
  {
   "cell_type": "code",
   "execution_count": 9,
   "metadata": {
    "collapsed": true
   },
   "outputs": [],
   "source": [
    "# create the model\n",
    "model = Sequential()\n",
    "model.add(Masking(mask_value=0, input_shape=(127,)))\n",
    "model.add(Embedding(vocab_size, embedding_dim, input_length=max_length, \\\n",
    "                    weights=[embedding_matrix], trainable=True))\n",
    "model.add(Bidirectional(GRU(150, dropout=0.5, recurrent_dropout=0.5, return_sequences=True)))\n",
    "model.add(Bidirectional(GRU(150, dropout=0.5, recurrent_dropout=0.5, return_sequences=True)))\n",
    "model.add(Bidirectional(GRU(150, dropout=0.5, recurrent_dropout=0.5, return_sequences=True)))\n",
    "model.add(TimeDistributed(Dense(3, activation='softmax')))"
   ]
  },
  {
   "cell_type": "code",
   "execution_count": 10,
   "metadata": {
    "collapsed": false
   },
   "outputs": [
    {
     "name": "stdout",
     "output_type": "stream",
     "text": [
      "_________________________________________________________________\n",
      "Layer (type)                 Output Shape              Param #   \n",
      "=================================================================\n",
      "masking_1 (Masking)          (None, 127)               0         \n",
      "_________________________________________________________________\n",
      "embedding_1 (Embedding)      (None, 127, 300)          3336000   \n",
      "_________________________________________________________________\n",
      "bidirectional_1 (Bidirection (None, 127, 300)          405900    \n",
      "_________________________________________________________________\n",
      "bidirectional_2 (Bidirection (None, 127, 300)          405900    \n",
      "_________________________________________________________________\n",
      "bidirectional_3 (Bidirection (None, 127, 300)          405900    \n",
      "_________________________________________________________________\n",
      "time_distributed_1 (TimeDist (None, 127, 3)            903       \n",
      "=================================================================\n",
      "Total params: 4,554,603\n",
      "Trainable params: 4,554,603\n",
      "Non-trainable params: 0\n",
      "_________________________________________________________________\n",
      "None\n"
     ]
    }
   ],
   "source": [
    "print model.summary()"
   ]
  },
  {
   "cell_type": "code",
   "execution_count": 11,
   "metadata": {
    "collapsed": true
   },
   "outputs": [],
   "source": [
    "from keras.callbacks import ModelCheckpoint"
   ]
  },
  {
   "cell_type": "code",
   "execution_count": 12,
   "metadata": {
    "collapsed": true
   },
   "outputs": [],
   "source": [
    "mcp = ModelCheckpoint('bidir_rnn_scratch.hdf5', monitor=\"val_acc\", save_best_only=True, save_weights_only=False)"
   ]
  },
  {
   "cell_type": "code",
   "execution_count": 13,
   "metadata": {
    "collapsed": true
   },
   "outputs": [],
   "source": [
    "model.compile(loss='categorical_crossentropy', optimizer='rmsprop', metrics=['accuracy'])"
   ]
  },
  {
   "cell_type": "code",
   "execution_count": 14,
   "metadata": {
    "collapsed": true
   },
   "outputs": [],
   "source": [
    "y_train2 = np.array([to_categorical(y, 3) for y in y_train])\n",
    "y_valid2 = np.array([to_categorical(y, 3) for y in y_valid])\n",
    "y_test2 = np.array([to_categorical(y, 3) for y in y_test])"
   ]
  },
  {
   "cell_type": "code",
   "execution_count": 15,
   "metadata": {
    "collapsed": false,
    "scrolled": false
   },
   "outputs": [
    {
     "name": "stdout",
     "output_type": "stream",
     "text": [
      "Train on 2558 samples, validate on 365 samples\n",
      "Epoch 1/30\n",
      "2558/2558 [==============================] - 28s - loss: 0.1722 - acc: 0.9818 - val_loss: 0.0565 - val_acc: 0.9816\n",
      "Epoch 2/30\n",
      "2558/2558 [==============================] - 26s - loss: 0.0466 - acc: 0.9823 - val_loss: 0.0519 - val_acc: 0.9823\n",
      "Epoch 3/30\n",
      "2558/2558 [==============================] - 26s - loss: 0.0373 - acc: 0.9850 - val_loss: 0.0482 - val_acc: 0.9841\n",
      "Epoch 4/30\n",
      "2558/2558 [==============================] - 26s - loss: 0.0285 - acc: 0.9888 - val_loss: 0.0440 - val_acc: 0.9874\n",
      "Epoch 5/30\n",
      "2558/2558 [==============================] - 26s - loss: 0.0201 - acc: 0.9926 - val_loss: 0.0392 - val_acc: 0.9885\n",
      "Epoch 6/30\n",
      "2558/2558 [==============================] - 26s - loss: 0.0141 - acc: 0.9949 - val_loss: 0.0409 - val_acc: 0.9887\n",
      "Epoch 7/30\n",
      "2558/2558 [==============================] - 26s - loss: 0.0125 - acc: 0.9956 - val_loss: 0.0434 - val_acc: 0.9891\n",
      "Epoch 8/30\n",
      "2558/2558 [==============================] - 26s - loss: 0.0092 - acc: 0.9967 - val_loss: 0.0438 - val_acc: 0.9872\n",
      "Epoch 9/30\n",
      "2558/2558 [==============================] - 26s - loss: 0.0094 - acc: 0.9965 - val_loss: 0.0463 - val_acc: 0.9891\n",
      "Epoch 10/30\n",
      "2558/2558 [==============================] - 21s - loss: 0.0076 - acc: 0.9972 - val_loss: 0.0490 - val_acc: 0.9888\n",
      "Epoch 11/30\n",
      "2558/2558 [==============================] - 22s - loss: 0.0067 - acc: 0.9976 - val_loss: 0.0537 - val_acc: 0.9886\n",
      "Epoch 12/30\n",
      "2558/2558 [==============================] - 22s - loss: 0.0052 - acc: 0.9982 - val_loss: 0.0500 - val_acc: 0.9885\n",
      "Epoch 13/30\n",
      "2558/2558 [==============================] - 23s - loss: 0.0051 - acc: 0.9982 - val_loss: 0.0598 - val_acc: 0.9880\n",
      "Epoch 14/30\n",
      "2558/2558 [==============================] - 22s - loss: 0.0041 - acc: 0.9986 - val_loss: 0.0596 - val_acc: 0.9885\n",
      "Epoch 15/30\n",
      "2558/2558 [==============================] - 22s - loss: 0.0046 - acc: 0.9984 - val_loss: 0.0624 - val_acc: 0.9881\n",
      "Epoch 16/30\n",
      "2558/2558 [==============================] - 21s - loss: 0.0031 - acc: 0.9989 - val_loss: 0.0719 - val_acc: 0.9883\n",
      "Epoch 17/30\n",
      "2558/2558 [==============================] - 21s - loss: 0.0037 - acc: 0.9987 - val_loss: 0.0653 - val_acc: 0.9884\n",
      "Epoch 18/30\n",
      "2558/2558 [==============================] - 21s - loss: 0.0027 - acc: 0.9990 - val_loss: 0.0666 - val_acc: 0.9875\n",
      "Epoch 19/30\n",
      "2558/2558 [==============================] - 21s - loss: 0.0030 - acc: 0.9990 - val_loss: 0.0726 - val_acc: 0.9883\n",
      "Epoch 20/30\n",
      "2558/2558 [==============================] - 21s - loss: 0.0020 - acc: 0.9993 - val_loss: 0.0800 - val_acc: 0.9880\n",
      "Epoch 21/30\n",
      "2558/2558 [==============================] - 21s - loss: 0.0025 - acc: 0.9992 - val_loss: 0.0725 - val_acc: 0.9880\n",
      "Epoch 22/30\n",
      "2558/2558 [==============================] - 21s - loss: 0.0025 - acc: 0.9991 - val_loss: 0.0785 - val_acc: 0.9882\n",
      "Epoch 23/30\n",
      "2558/2558 [==============================] - 21s - loss: 0.0018 - acc: 0.9994 - val_loss: 0.0828 - val_acc: 0.9876\n",
      "Epoch 24/30\n",
      "2558/2558 [==============================] - 20s - loss: 0.0018 - acc: 0.9994 - val_loss: 0.0885 - val_acc: 0.9875\n",
      "Epoch 25/30\n",
      "2558/2558 [==============================] - 20s - loss: 0.0021 - acc: 0.9992 - val_loss: 0.0789 - val_acc: 0.9877\n",
      "Epoch 26/30\n",
      "2558/2558 [==============================] - 20s - loss: 0.0017 - acc: 0.9994 - val_loss: 0.0851 - val_acc: 0.9877\n",
      "Epoch 27/30\n",
      "2558/2558 [==============================] - 20s - loss: 0.0017 - acc: 0.9994 - val_loss: 0.0763 - val_acc: 0.9883\n",
      "Epoch 28/30\n",
      "2558/2558 [==============================] - 20s - loss: 0.0013 - acc: 0.9995 - val_loss: 0.0808 - val_acc: 0.9880\n",
      "Epoch 29/30\n",
      "2558/2558 [==============================] - 20s - loss: 0.0014 - acc: 0.9995 - val_loss: 0.0879 - val_acc: 0.9872\n",
      "Epoch 30/30\n",
      "2558/2558 [==============================] - 20s - loss: 0.0014 - acc: 0.9995 - val_loss: 0.0867 - val_acc: 0.9880\n"
     ]
    },
    {
     "data": {
      "text/plain": [
       "<keras.callbacks.History at 0x7f01d00b75d0>"
      ]
     },
     "execution_count": 15,
     "metadata": {},
     "output_type": "execute_result"
    }
   ],
   "source": [
    "model.fit(X_train, y_train2, epochs=30, batch_size=128, validation_data=(X_valid, y_valid2), callbacks=[mcp])"
   ]
  },
  {
   "cell_type": "code",
   "execution_count": 20,
   "metadata": {
    "collapsed": false
   },
   "outputs": [],
   "source": [
    "model.load_weights('bidir_rnn_scratch.hdf5')"
   ]
  },
  {
   "cell_type": "code",
   "execution_count": 21,
   "metadata": {
    "collapsed": false
   },
   "outputs": [
    {
     "name": "stdout",
     "output_type": "stream",
     "text": [
      "732/732 [==============================] - 1s     \n"
     ]
    }
   ],
   "source": [
    "result = model.evaluate(X_test, y_test2, batch_size=128)"
   ]
  },
  {
   "cell_type": "code",
   "execution_count": 22,
   "metadata": {
    "collapsed": true
   },
   "outputs": [],
   "source": [
    "predictions = model.predict(X_test)"
   ]
  },
  {
   "cell_type": "code",
   "execution_count": 23,
   "metadata": {
    "collapsed": true
   },
   "outputs": [],
   "source": [
    "with open('predictions_rnn_scratch.txt', 'w') as f:\n",
    "    for tokens, prediction in zip(X_test, predictions):\n",
    "        started = False\n",
    "\n",
    "        for tok, pred in zip(tokens, prediction):\n",
    "            if not started and tok == 1:\n",
    "                started = True\n",
    "            elif started and tok == 2:\n",
    "                f.write('\\n')\n",
    "                break\n",
    "            elif started:\n",
    "                if np.argmax(pred) == 0:\n",
    "                    f.write('O\\n')\n",
    "                elif np.argmax(pred) == 1:\n",
    "                    f.write('T\\n')\n",
    "                elif np.argmax(pred) == 2:\n",
    "                    f.write('D\\n')"
   ]
  },
  {
   "cell_type": "code",
   "execution_count": null,
   "metadata": {
    "collapsed": true
   },
   "outputs": [],
   "source": []
  }
 ],
 "metadata": {
  "kernelspec": {
   "display_name": "Python 2",
   "language": "python",
   "name": "python2"
  },
  "language_info": {
   "codemirror_mode": {
    "name": "ipython",
    "version": 2
   },
   "file_extension": ".py",
   "mimetype": "text/x-python",
   "name": "python",
   "nbconvert_exporter": "python",
   "pygments_lexer": "ipython2",
   "version": "2.7.12"
  }
 },
 "nbformat": 4,
 "nbformat_minor": 1
}
