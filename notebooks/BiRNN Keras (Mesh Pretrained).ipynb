{
 "cells": [
  {
   "cell_type": "code",
   "execution_count": 1,
   "metadata": {
    "collapsed": false
   },
   "outputs": [
    {
     "name": "stderr",
     "output_type": "stream",
     "text": [
      "/home/soham/.env/local/lib/python2.7/site-packages/h5py/__init__.py:36: FutureWarning: Conversion of the second argument of issubdtype from `float` to `np.floating` is deprecated. In future, it will be treated as `np.float64 == np.dtype(float).type`.\n",
      "  from ._conv import register_converters as _register_converters\n",
      "Using TensorFlow backend.\n"
     ]
    }
   ],
   "source": [
    "import numpy as np, keras\n",
    "#from mr import mr\n",
    "from keras.utils import to_categorical\n",
    "from keras.models import Sequential\n",
    "from keras.layers import Dense, LSTM, GRU, Dropout, Bidirectional, TimeDistributed, Masking\n",
    "from keras.layers.embeddings import Embedding\n",
    "from keras.preprocessing import sequence"
   ]
  },
  {
   "cell_type": "code",
   "execution_count": 2,
   "metadata": {
    "collapsed": true
   },
   "outputs": [],
   "source": [
    "import tensorflow as tf\n",
    "from keras.backend.tensorflow_backend import set_session\n",
    "config = tf.ConfigProto()\n",
    "config.gpu_options.allow_growth=True\n",
    "set_session(tf.Session(config=config))"
   ]
  },
  {
   "cell_type": "code",
   "execution_count": 3,
   "metadata": {
    "collapsed": true
   },
   "outputs": [],
   "source": [
    "embedding_dim = 200"
   ]
  },
  {
   "cell_type": "code",
   "execution_count": 4,
   "metadata": {
    "collapsed": false
   },
   "outputs": [
    {
     "name": "stdout",
     "output_type": "stream",
     "text": [
      "Found 1466168 word vectors.\n"
     ]
    }
   ],
   "source": [
    "from gensim.models import KeyedVectors\n",
    "model = KeyedVectors.load_word2vec_format('unlabeled-vector.bin', binary=True, unicode_errors='ignore') \n",
    "print('Found %s word vectors.' % len(model.index2word))"
   ]
  },
  {
   "cell_type": "code",
   "execution_count": 5,
   "metadata": {
    "collapsed": true
   },
   "outputs": [],
   "source": [
    "X_train = np.load('train_x.npy'); y_train = np.load('train_y.npy'); l_train = np.load('train_l.npy')\n",
    "X_valid = np.load('valid_x.npy'); y_valid = np.load('valid_y.npy'); l_valid = np.load('valid_l.npy')\n",
    "X_test  = np.load('test_x.npy' ); y_test  = np.load('test_y.npy' ); l_test  = np.load('test_l.npy' )"
   ]
  },
  {
   "cell_type": "code",
   "execution_count": 6,
   "metadata": {
    "collapsed": true
   },
   "outputs": [],
   "source": [
    "vocab_size = np.max(list(set.union(*[set(x) for x in X_train]))) + 1"
   ]
  },
  {
   "cell_type": "code",
   "execution_count": 7,
   "metadata": {
    "collapsed": true
   },
   "outputs": [],
   "source": [
    "max_length = len(X_train[0])"
   ]
  },
  {
   "cell_type": "code",
   "execution_count": 8,
   "metadata": {
    "collapsed": true
   },
   "outputs": [],
   "source": [
    "dictionary_fwd = np.load('dictionary_fwd.npy').item()"
   ]
  },
  {
   "cell_type": "code",
   "execution_count": 9,
   "metadata": {
    "collapsed": false
   },
   "outputs": [
    {
     "name": "stdout",
     "output_type": "stream",
     "text": [
      "8852 found of 10098\n"
     ]
    }
   ],
   "source": [
    "embedding_matrix = np.zeros((vocab_size, embedding_dim))\n",
    "found = 0\n",
    "\n",
    "for word, i in dictionary_fwd.iteritems():\n",
    "    if word in model:\n",
    "        if i >= vocab_size:\n",
    "            continue\n",
    "        \n",
    "        # words not found in embedding index will be all-zeros.\n",
    "        embedding_matrix[i] = model[word]\n",
    "        found += 1\n",
    "\n",
    "print found, 'found of', len(dictionary_fwd)"
   ]
  },
  {
   "cell_type": "code",
   "execution_count": 10,
   "metadata": {
    "collapsed": true
   },
   "outputs": [],
   "source": [
    "# create the model\n",
    "model = Sequential()\n",
    "model.add(Masking(mask_value=0, input_shape=(127,)))\n",
    "model.add(Embedding(vocab_size, embedding_dim, input_length=max_length, \\\n",
    "                    weights=[embedding_matrix], trainable=True))\n",
    "model.add(Bidirectional(GRU(150, dropout=0.5, recurrent_dropout=0.5, return_sequences=True)))\n",
    "model.add(Bidirectional(GRU(150, dropout=0.5, recurrent_dropout=0.5, return_sequences=True)))\n",
    "model.add(Bidirectional(GRU(150, dropout=0.5, recurrent_dropout=0.5, return_sequences=True)))\n",
    "model.add(TimeDistributed(Dense(3, activation='softmax')))"
   ]
  },
  {
   "cell_type": "code",
   "execution_count": 11,
   "metadata": {
    "collapsed": false
   },
   "outputs": [
    {
     "name": "stdout",
     "output_type": "stream",
     "text": [
      "_________________________________________________________________\n",
      "Layer (type)                 Output Shape              Param #   \n",
      "=================================================================\n",
      "masking_1 (Masking)          (None, 127)               0         \n",
      "_________________________________________________________________\n",
      "embedding_1 (Embedding)      (None, 127, 200)          2224000   \n",
      "_________________________________________________________________\n",
      "bidirectional_1 (Bidirection (None, 127, 300)          315900    \n",
      "_________________________________________________________________\n",
      "bidirectional_2 (Bidirection (None, 127, 300)          405900    \n",
      "_________________________________________________________________\n",
      "bidirectional_3 (Bidirection (None, 127, 300)          405900    \n",
      "_________________________________________________________________\n",
      "time_distributed_1 (TimeDist (None, 127, 3)            903       \n",
      "=================================================================\n",
      "Total params: 3,352,603\n",
      "Trainable params: 3,352,603\n",
      "Non-trainable params: 0\n",
      "_________________________________________________________________\n",
      "None\n"
     ]
    }
   ],
   "source": [
    "print model.summary()"
   ]
  },
  {
   "cell_type": "code",
   "execution_count": 12,
   "metadata": {
    "collapsed": true
   },
   "outputs": [],
   "source": [
    "from keras.callbacks import ModelCheckpoint"
   ]
  },
  {
   "cell_type": "code",
   "execution_count": 13,
   "metadata": {
    "collapsed": true
   },
   "outputs": [],
   "source": [
    "mcp = ModelCheckpoint('bidir_rnn_mesh.hdf5', monitor=\"val_acc\", save_best_only=True, save_weights_only=False)"
   ]
  },
  {
   "cell_type": "code",
   "execution_count": 14,
   "metadata": {
    "collapsed": true
   },
   "outputs": [],
   "source": [
    "model.compile(loss='categorical_crossentropy', optimizer='rmsprop', metrics=['accuracy'])"
   ]
  },
  {
   "cell_type": "code",
   "execution_count": 15,
   "metadata": {
    "collapsed": true
   },
   "outputs": [],
   "source": [
    "y_train2 = np.array([to_categorical(y, 3) for y in y_train])\n",
    "y_valid2 = np.array([to_categorical(y, 3) for y in y_valid])\n",
    "y_test2 = np.array([to_categorical(y, 3) for y in y_test])"
   ]
  },
  {
   "cell_type": "code",
   "execution_count": 16,
   "metadata": {
    "collapsed": false,
    "scrolled": false
   },
   "outputs": [
    {
     "name": "stdout",
     "output_type": "stream",
     "text": [
      "Train on 2558 samples, validate on 365 samples\n",
      "Epoch 1/30\n",
      "2558/2558 [==============================] - 21s - loss: 0.1960 - acc: 0.9610 - val_loss: 0.0799 - val_acc: 0.9818\n",
      "Epoch 2/30\n",
      "2558/2558 [==============================] - 21s - loss: 0.0619 - acc: 0.9801 - val_loss: 0.0645 - val_acc: 0.9832\n",
      "Epoch 3/30\n",
      "2558/2558 [==============================] - 20s - loss: 0.0512 - acc: 0.9831 - val_loss: 0.0413 - val_acc: 0.9838\n",
      "Epoch 4/30\n",
      "2558/2558 [==============================] - 21s - loss: 0.0449 - acc: 0.9844 - val_loss: 0.0401 - val_acc: 0.9851\n",
      "Epoch 5/30\n",
      "2558/2558 [==============================] - 21s - loss: 0.0394 - acc: 0.9859 - val_loss: 0.0344 - val_acc: 0.9882\n",
      "Epoch 6/30\n",
      "2558/2558 [==============================] - 22s - loss: 0.0360 - acc: 0.9870 - val_loss: 0.0365 - val_acc: 0.9864\n",
      "Epoch 7/30\n",
      "2558/2558 [==============================] - 22s - loss: 0.0339 - acc: 0.9876 - val_loss: 0.0348 - val_acc: 0.9871\n",
      "Epoch 8/30\n",
      "2558/2558 [==============================] - 22s - loss: 0.0317 - acc: 0.9881 - val_loss: 0.0349 - val_acc: 0.9866\n",
      "Epoch 9/30\n",
      "2558/2558 [==============================] - 22s - loss: 0.0297 - acc: 0.9890 - val_loss: 0.0280 - val_acc: 0.9896\n",
      "Epoch 10/30\n",
      "2558/2558 [==============================] - 22s - loss: 0.0287 - acc: 0.9890 - val_loss: 0.0318 - val_acc: 0.9876\n",
      "Epoch 11/30\n",
      "2558/2558 [==============================] - 22s - loss: 0.0268 - acc: 0.9898 - val_loss: 0.0367 - val_acc: 0.9861\n",
      "Epoch 12/30\n",
      "2558/2558 [==============================] - 21s - loss: 0.0275 - acc: 0.9895 - val_loss: 0.0287 - val_acc: 0.9888\n",
      "Epoch 13/30\n",
      "2558/2558 [==============================] - 22s - loss: 0.0241 - acc: 0.9907 - val_loss: 0.0287 - val_acc: 0.9888\n",
      "Epoch 14/30\n",
      "2558/2558 [==============================] - 22s - loss: 0.0244 - acc: 0.9905 - val_loss: 0.0298 - val_acc: 0.9884\n",
      "Epoch 15/30\n",
      "2558/2558 [==============================] - 21s - loss: 0.0234 - acc: 0.9911 - val_loss: 0.0239 - val_acc: 0.9906\n",
      "Epoch 16/30\n",
      "2558/2558 [==============================] - 21s - loss: 0.0229 - acc: 0.9911 - val_loss: 0.0305 - val_acc: 0.9887\n",
      "Epoch 17/30\n",
      "2558/2558 [==============================] - 21s - loss: 0.0217 - acc: 0.9915 - val_loss: 0.0305 - val_acc: 0.9884\n",
      "Epoch 18/30\n",
      "2558/2558 [==============================] - 22s - loss: 0.0207 - acc: 0.9917 - val_loss: 0.0298 - val_acc: 0.9886\n",
      "Epoch 19/30\n",
      "2558/2558 [==============================] - 23s - loss: 0.0205 - acc: 0.9919 - val_loss: 0.0295 - val_acc: 0.9886\n",
      "Epoch 20/30\n",
      "2558/2558 [==============================] - 22s - loss: 0.0194 - acc: 0.9924 - val_loss: 0.0248 - val_acc: 0.9901\n",
      "Epoch 21/30\n",
      "2558/2558 [==============================] - 23s - loss: 0.0194 - acc: 0.9925 - val_loss: 0.0251 - val_acc: 0.9901\n",
      "Epoch 22/30\n",
      "2558/2558 [==============================] - 24s - loss: 0.0186 - acc: 0.9925 - val_loss: 0.0229 - val_acc: 0.9911\n",
      "Epoch 23/30\n",
      "2558/2558 [==============================] - 24s - loss: 0.0183 - acc: 0.9929 - val_loss: 0.0253 - val_acc: 0.9901\n",
      "Epoch 24/30\n",
      "2558/2558 [==============================] - 24s - loss: 0.0176 - acc: 0.9929 - val_loss: 0.0321 - val_acc: 0.9876\n",
      "Epoch 25/30\n",
      "2558/2558 [==============================] - 24s - loss: 0.0171 - acc: 0.9934 - val_loss: 0.0239 - val_acc: 0.9914\n",
      "Epoch 26/30\n",
      "2558/2558 [==============================] - 24s - loss: 0.0167 - acc: 0.9935 - val_loss: 0.0263 - val_acc: 0.9901\n",
      "Epoch 27/30\n",
      "2558/2558 [==============================] - 24s - loss: 0.0167 - acc: 0.9935 - val_loss: 0.0269 - val_acc: 0.9904\n",
      "Epoch 28/30\n",
      "2558/2558 [==============================] - 24s - loss: 0.0159 - acc: 0.9936 - val_loss: 0.0250 - val_acc: 0.9908\n",
      "Epoch 29/30\n",
      "2558/2558 [==============================] - 24s - loss: 0.0160 - acc: 0.9937 - val_loss: 0.0267 - val_acc: 0.9903\n",
      "Epoch 30/30\n",
      "2558/2558 [==============================] - 24s - loss: 0.0155 - acc: 0.9941 - val_loss: 0.0272 - val_acc: 0.9906\n"
     ]
    },
    {
     "data": {
      "text/plain": [
       "<keras.callbacks.History at 0x7f2e7f7eeed0>"
      ]
     },
     "execution_count": 16,
     "metadata": {},
     "output_type": "execute_result"
    }
   ],
   "source": [
    "model.fit(X_train, y_train2, epochs=30, batch_size=128, validation_data=(X_valid, y_valid2), callbacks=[mcp])"
   ]
  },
  {
   "cell_type": "code",
   "execution_count": 17,
   "metadata": {
    "collapsed": true
   },
   "outputs": [],
   "source": [
    "model.load_weights('bidir_rnn_mesh.hdf5')"
   ]
  },
  {
   "cell_type": "code",
   "execution_count": 18,
   "metadata": {
    "collapsed": false
   },
   "outputs": [
    {
     "name": "stdout",
     "output_type": "stream",
     "text": [
      "732/732 [==============================] - 2s     \n"
     ]
    }
   ],
   "source": [
    "result = model.evaluate(X_test, y_test2, batch_size=128)"
   ]
  },
  {
   "cell_type": "code",
   "execution_count": 19,
   "metadata": {
    "collapsed": true
   },
   "outputs": [],
   "source": [
    "predictions = model.predict(X_test)"
   ]
  },
  {
   "cell_type": "code",
   "execution_count": 20,
   "metadata": {
    "collapsed": true
   },
   "outputs": [],
   "source": [
    "with open('predictions_rnn_mesh.txt', 'w') as f:\n",
    "    for tokens, prediction in zip(X_test, predictions):\n",
    "        started = False\n",
    "\n",
    "        for tok, pred in zip(tokens, prediction):\n",
    "            if not started and tok == 1:\n",
    "                started = True\n",
    "            elif started and tok == 2:\n",
    "                f.write('\\n')\n",
    "                break\n",
    "            elif started:\n",
    "                if np.argmax(pred) == 0:\n",
    "                    f.write('O\\n')\n",
    "                elif np.argmax(pred) == 1:\n",
    "                    f.write('T\\n')\n",
    "                elif np.argmax(pred) == 2:\n",
    "                    f.write('D\\n')"
   ]
  }
 ],
 "metadata": {
  "kernelspec": {
   "display_name": "Python 2",
   "language": "python",
   "name": "python2"
  },
  "language_info": {
   "codemirror_mode": {
    "name": "ipython",
    "version": 2
   },
   "file_extension": ".py",
   "mimetype": "text/x-python",
   "name": "python",
   "nbconvert_exporter": "python",
   "pygments_lexer": "ipython2",
   "version": "2.7.12"
  }
 },
 "nbformat": 4,
 "nbformat_minor": 1
}
