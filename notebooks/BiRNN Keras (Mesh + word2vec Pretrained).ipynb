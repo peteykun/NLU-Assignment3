{
 "cells": [
  {
   "cell_type": "code",
   "execution_count": 1,
   "metadata": {
    "collapsed": false
   },
   "outputs": [
    {
     "name": "stderr",
     "output_type": "stream",
     "text": [
      "/home/soham/.env/local/lib/python2.7/site-packages/h5py/__init__.py:36: FutureWarning: Conversion of the second argument of issubdtype from `float` to `np.floating` is deprecated. In future, it will be treated as `np.float64 == np.dtype(float).type`.\n",
      "  from ._conv import register_converters as _register_converters\n",
      "Using TensorFlow backend.\n"
     ]
    }
   ],
   "source": [
    "import numpy as np, keras\n",
    "#from mr import mr\n",
    "from keras.utils import to_categorical\n",
    "from keras.models import Sequential\n",
    "from keras.layers import Dense, LSTM, GRU, Dropout, Bidirectional, TimeDistributed, Masking\n",
    "from keras.layers.embeddings import Embedding\n",
    "from keras.preprocessing import sequence"
   ]
  },
  {
   "cell_type": "code",
   "execution_count": 2,
   "metadata": {
    "collapsed": true
   },
   "outputs": [],
   "source": [
    "import tensorflow as tf\n",
    "from keras.backend.tensorflow_backend import set_session\n",
    "config = tf.ConfigProto()\n",
    "config.gpu_options.allow_growth=True\n",
    "set_session(tf.Session(config=config))"
   ]
  },
  {
   "cell_type": "code",
   "execution_count": 3,
   "metadata": {
    "collapsed": true
   },
   "outputs": [],
   "source": [
    "embedding_dim = 200 + 300"
   ]
  },
  {
   "cell_type": "code",
   "execution_count": 4,
   "metadata": {
    "collapsed": false
   },
   "outputs": [
    {
     "name": "stdout",
     "output_type": "stream",
     "text": [
      "Found 400000 word vectors.\n"
     ]
    }
   ],
   "source": [
    "embeddings_index = {}\n",
    "f = open('/home/soham/DL-NLP/Assignment 2/glove.6B.300d.txt')\n",
    "for line in f:\n",
    "    values = line.split()\n",
    "    word = values[0]\n",
    "    coefs = np.asarray(values[1:], dtype='float32')\n",
    "    embeddings_index[word] = coefs\n",
    "f.close()\n",
    "\n",
    "print('Found %s word vectors.' % len(embeddings_index))"
   ]
  },
  {
   "cell_type": "code",
   "execution_count": 5,
   "metadata": {
    "collapsed": false
   },
   "outputs": [
    {
     "name": "stdout",
     "output_type": "stream",
     "text": [
      "Found 1466168 word vectors.\n"
     ]
    }
   ],
   "source": [
    "from gensim.models import KeyedVectors\n",
    "model = KeyedVectors.load_word2vec_format('unlabeled-vector.bin', binary=True, unicode_errors='ignore') \n",
    "print('Found %s word vectors.' % len(model.index2word))"
   ]
  },
  {
   "cell_type": "code",
   "execution_count": 6,
   "metadata": {
    "collapsed": true
   },
   "outputs": [],
   "source": [
    "X_train = np.load('train_x.npy'); y_train = np.load('train_y.npy'); l_train = np.load('train_l.npy')\n",
    "X_valid = np.load('valid_x.npy'); y_valid = np.load('valid_y.npy'); l_valid = np.load('valid_l.npy')\n",
    "X_test  = np.load('test_x.npy' ); y_test  = np.load('test_y.npy' ); l_test  = np.load('test_l.npy' )"
   ]
  },
  {
   "cell_type": "code",
   "execution_count": 7,
   "metadata": {
    "collapsed": true
   },
   "outputs": [],
   "source": [
    "vocab_size = np.max(list(set.union(*[set(x) for x in X_train]))) + 1"
   ]
  },
  {
   "cell_type": "code",
   "execution_count": 8,
   "metadata": {
    "collapsed": true
   },
   "outputs": [],
   "source": [
    "max_length = len(X_train[0])"
   ]
  },
  {
   "cell_type": "code",
   "execution_count": 9,
   "metadata": {
    "collapsed": true
   },
   "outputs": [],
   "source": [
    "dictionary_fwd = np.load('dictionary_fwd.npy').item()"
   ]
  },
  {
   "cell_type": "code",
   "execution_count": 10,
   "metadata": {
    "collapsed": false
   },
   "outputs": [
    {
     "name": "stdout",
     "output_type": "stream",
     "text": [
      "8227 found in word2vec of 10098\n",
      "8852 found in mesh of 10098\n"
     ]
    }
   ],
   "source": [
    "embedding_matrix = np.zeros((vocab_size, embedding_dim))\n",
    "found1 = 0; found2 = 0\n",
    "\n",
    "for word, i in dictionary_fwd.iteritems():\n",
    "    embedding_vector = embeddings_index.get(word)\n",
    "    if embedding_vector is not None:\n",
    "        if i >= vocab_size:\n",
    "            continue\n",
    "        \n",
    "        # words not found in embedding index will be all-zeros.\n",
    "        embedding_matrix[i][:300] = embedding_vector\n",
    "        found1 += 1\n",
    "    \n",
    "    if word in model:\n",
    "        if i >= vocab_size:\n",
    "            continue\n",
    "        \n",
    "        # words not found in embedding index will be all-zeros.\n",
    "        embedding_matrix[i][300:] = model[word]\n",
    "        found2 += 1\n",
    "\n",
    "print found1, 'found in word2vec of', len(dictionary_fwd)\n",
    "print found2, 'found in mesh of', len(dictionary_fwd)"
   ]
  },
  {
   "cell_type": "code",
   "execution_count": 11,
   "metadata": {
    "collapsed": true
   },
   "outputs": [],
   "source": [
    "# create the model\n",
    "model = Sequential()\n",
    "model.add(Masking(mask_value=0, input_shape=(127,)))\n",
    "model.add(Embedding(vocab_size, embedding_dim, input_length=max_length, \\\n",
    "                    weights=[embedding_matrix], trainable=True))\n",
    "model.add(Bidirectional(GRU(150, dropout=0.5, recurrent_dropout=0.5, return_sequences=True)))\n",
    "model.add(Bidirectional(GRU(150, dropout=0.5, recurrent_dropout=0.5, return_sequences=True)))\n",
    "model.add(Bidirectional(GRU(150, dropout=0.5, recurrent_dropout=0.5, return_sequences=True)))\n",
    "model.add(TimeDistributed(Dense(3, activation='softmax')))"
   ]
  },
  {
   "cell_type": "code",
   "execution_count": 12,
   "metadata": {
    "collapsed": false
   },
   "outputs": [
    {
     "name": "stdout",
     "output_type": "stream",
     "text": [
      "_________________________________________________________________\n",
      "Layer (type)                 Output Shape              Param #   \n",
      "=================================================================\n",
      "masking_1 (Masking)          (None, 127)               0         \n",
      "_________________________________________________________________\n",
      "embedding_1 (Embedding)      (None, 127, 500)          5560000   \n",
      "_________________________________________________________________\n",
      "bidirectional_1 (Bidirection (None, 127, 300)          585900    \n",
      "_________________________________________________________________\n",
      "bidirectional_2 (Bidirection (None, 127, 300)          405900    \n",
      "_________________________________________________________________\n",
      "bidirectional_3 (Bidirection (None, 127, 300)          405900    \n",
      "_________________________________________________________________\n",
      "time_distributed_1 (TimeDist (None, 127, 3)            903       \n",
      "=================================================================\n",
      "Total params: 6,958,603\n",
      "Trainable params: 6,958,603\n",
      "Non-trainable params: 0\n",
      "_________________________________________________________________\n",
      "None\n"
     ]
    }
   ],
   "source": [
    "print model.summary()"
   ]
  },
  {
   "cell_type": "code",
   "execution_count": 13,
   "metadata": {
    "collapsed": true
   },
   "outputs": [],
   "source": [
    "from keras.callbacks import ModelCheckpoint"
   ]
  },
  {
   "cell_type": "code",
   "execution_count": 14,
   "metadata": {
    "collapsed": true
   },
   "outputs": [],
   "source": [
    "mcp = ModelCheckpoint('bidir_rnn_meshword2vec.hdf5', monitor=\"val_acc\", save_best_only=True, save_weights_only=False)"
   ]
  },
  {
   "cell_type": "code",
   "execution_count": 15,
   "metadata": {
    "collapsed": true
   },
   "outputs": [],
   "source": [
    "model.compile(loss='categorical_crossentropy', optimizer='rmsprop', metrics=['accuracy'])"
   ]
  },
  {
   "cell_type": "code",
   "execution_count": 16,
   "metadata": {
    "collapsed": true
   },
   "outputs": [],
   "source": [
    "y_train2 = np.array([to_categorical(y, 3) for y in y_train])\n",
    "y_valid2 = np.array([to_categorical(y, 3) for y in y_valid])\n",
    "y_test2 = np.array([to_categorical(y, 3) for y in y_test])"
   ]
  },
  {
   "cell_type": "code",
   "execution_count": 22,
   "metadata": {
    "collapsed": false,
    "scrolled": false
   },
   "outputs": [
    {
     "name": "stdout",
     "output_type": "stream",
     "text": [
      "Train on 2558 samples, validate on 365 samples\n",
      "Epoch 1/10\n",
      "2558/2558 [==============================] - 21s - loss: 0.0211 - acc: 0.9918 - val_loss: 0.0270 - val_acc: 0.9903\n",
      "Epoch 2/10\n",
      "2558/2558 [==============================] - 21s - loss: 0.0202 - acc: 0.9923 - val_loss: 0.0277 - val_acc: 0.9899\n",
      "Epoch 3/10\n",
      "2558/2558 [==============================] - 21s - loss: 0.0190 - acc: 0.9927 - val_loss: 0.0256 - val_acc: 0.9909\n",
      "Epoch 4/10\n",
      "2558/2558 [==============================] - 21s - loss: 0.0179 - acc: 0.9932 - val_loss: 0.0257 - val_acc: 0.9911\n",
      "Epoch 5/10\n",
      "2558/2558 [==============================] - 20s - loss: 0.0172 - acc: 0.9931 - val_loss: 0.0255 - val_acc: 0.9911\n",
      "Epoch 6/10\n",
      "2558/2558 [==============================] - 20s - loss: 0.0163 - acc: 0.9938 - val_loss: 0.0271 - val_acc: 0.9910\n",
      "Epoch 7/10\n",
      "2558/2558 [==============================] - 20s - loss: 0.0154 - acc: 0.9941 - val_loss: 0.0265 - val_acc: 0.9918\n",
      "Epoch 8/10\n",
      "2558/2558 [==============================] - 21s - loss: 0.0148 - acc: 0.9944 - val_loss: 0.0282 - val_acc: 0.9904\n",
      "Epoch 9/10\n",
      "2558/2558 [==============================] - 20s - loss: 0.0140 - acc: 0.9945 - val_loss: 0.0260 - val_acc: 0.9918\n",
      "Epoch 10/10\n",
      "2558/2558 [==============================] - 21s - loss: 0.0129 - acc: 0.9949 - val_loss: 0.0264 - val_acc: 0.9919\n"
     ]
    },
    {
     "data": {
      "text/plain": [
       "<keras.callbacks.History at 0x7f0a71b4d3d0>"
      ]
     },
     "execution_count": 22,
     "metadata": {},
     "output_type": "execute_result"
    }
   ],
   "source": [
    "model.fit(X_train, y_train2, epochs=10, batch_size=128, validation_data=(X_valid, y_valid2), callbacks=[mcp])"
   ]
  },
  {
   "cell_type": "markdown",
   "metadata": {},
   "source": [
    "(total of 30)"
   ]
  },
  {
   "cell_type": "code",
   "execution_count": 23,
   "metadata": {
    "collapsed": true
   },
   "outputs": [],
   "source": [
    "model.load_weights('bidir_rnn_meshword2vec.hdf5')"
   ]
  },
  {
   "cell_type": "code",
   "execution_count": 24,
   "metadata": {
    "collapsed": false
   },
   "outputs": [
    {
     "name": "stdout",
     "output_type": "stream",
     "text": [
      "732/732 [==============================] - 1s     \n"
     ]
    }
   ],
   "source": [
    "result = model.evaluate(X_test, y_test2, batch_size=128)"
   ]
  },
  {
   "cell_type": "code",
   "execution_count": 25,
   "metadata": {
    "collapsed": true
   },
   "outputs": [],
   "source": [
    "predictions = model.predict(X_test)"
   ]
  },
  {
   "cell_type": "code",
   "execution_count": 27,
   "metadata": {
    "collapsed": true
   },
   "outputs": [],
   "source": [
    "with open('predictions_rnn_meshword2vec.txt', 'w') as f:\n",
    "    for tokens, prediction in zip(X_test, predictions):\n",
    "        started = False\n",
    "\n",
    "        for tok, pred in zip(tokens, prediction):\n",
    "            if not started and tok == 1:\n",
    "                started = True\n",
    "            elif started and tok == 2:\n",
    "                f.write('\\n')\n",
    "                break\n",
    "            elif started:\n",
    "                if np.argmax(pred) == 0:\n",
    "                    f.write('O\\n')\n",
    "                elif np.argmax(pred) == 1:\n",
    "                    f.write('T\\n')\n",
    "                elif np.argmax(pred) == 2:\n",
    "                    f.write('D\\n')"
   ]
  }
 ],
 "metadata": {
  "kernelspec": {
   "display_name": "Python 2",
   "language": "python",
   "name": "python2"
  },
  "language_info": {
   "codemirror_mode": {
    "name": "ipython",
    "version": 2
   },
   "file_extension": ".py",
   "mimetype": "text/x-python",
   "name": "python",
   "nbconvert_exporter": "python",
   "pygments_lexer": "ipython2",
   "version": "2.7.12"
  }
 },
 "nbformat": 4,
 "nbformat_minor": 1
}
