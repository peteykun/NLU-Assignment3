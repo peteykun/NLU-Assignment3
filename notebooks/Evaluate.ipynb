{
 "cells": [
  {
   "cell_type": "code",
   "execution_count": 1,
   "metadata": {},
   "outputs": [],
   "source": [
    "import numpy as np"
   ]
  },
  {
   "cell_type": "code",
   "execution_count": 2,
   "metadata": {},
   "outputs": [],
   "source": [
    "with open('features_test.txt', 'r') as f:\n",
    "    actual = f.readlines()\n",
    "\n",
    "with open('predictions.txt', 'r') as f:\n",
    "    predictions = f.readlines()\n",
    "\n",
    "predictions = [a[0] if len(a) > 1 else '' for a in predictions]\n",
    "actual = [a[-2] if len(a) > 1 else '' for a in actual]"
   ]
  },
  {
   "cell_type": "code",
   "execution_count": 3,
   "metadata": {},
   "outputs": [],
   "source": [
    "tags = ['O', 'T', 'D']\n",
    "counts = {}\n",
    "\n",
    "for tag in tags:\n",
    "    counts[tag] = {tag2: 0 for tag2 in tags}\n",
    "\n",
    "for i, j in zip(actual, predictions):\n",
    "    if i == '':\n",
    "        assert j == ''\n",
    "    else:\n",
    "        counts[i][j] += 1"
   ]
  },
  {
   "cell_type": "code",
   "execution_count": 4,
   "metadata": {},
   "outputs": [
    {
     "name": "stdout",
     "output_type": "stream",
     "text": [
      "{'T': {'T': 190, 'O': 651, 'D': 8}, 'O': {'T': 73, 'O': 11123, 'D': 152}, 'D': {'T': 4, 'O': 585, 'D': 427}}\n"
     ]
    }
   ],
   "source": [
    "print counts"
   ]
  },
  {
   "cell_type": "code",
   "execution_count": 5,
   "metadata": {},
   "outputs": [
    {
     "name": "stdout",
     "output_type": "stream",
     "text": [
      "Original tag: O\n",
      "----------------\n",
      "O \t11123 \t98.02%\n",
      "T \t73 \t0.64%\n",
      "D \t152 \t1.34%\n",
      "\n",
      "Precision:  98.0172717659\n",
      "Recall:     89.999190873\n",
      "F1 measure: 93.8372632556\n",
      "\n",
      "Original tag: T\n",
      "----------------\n",
      "O \t651 \t76.68%\n",
      "T \t190 \t22.38%\n",
      "D \t8 \t0.94%\n",
      "\n",
      "Precision:  22.3792697291\n",
      "Recall:     71.1610486891\n",
      "F1 measure: 34.0501792115\n",
      "\n",
      "Original tag: D\n",
      "----------------\n",
      "O \t585 \t57.58%\n",
      "T \t4 \t0.39%\n",
      "D \t427 \t42.03%\n",
      "\n",
      "Precision:  42.0275590551\n",
      "Recall:     72.7427597956\n",
      "F1 measure: 53.2751091703\n",
      "\n"
     ]
    }
   ],
   "source": [
    "result = {}\n",
    "\n",
    "for i in tags:\n",
    "    print 'Original tag:', i\n",
    "    print '----------------'\n",
    "    \n",
    "    precision_demominator = 0\n",
    "    recall_demominator = 0\n",
    "    \n",
    "    for j in tags:\n",
    "        recall_demominator += counts[j][i]\n",
    "        precision_demominator += counts[i][j]\n",
    "            \n",
    "        print j, '\\t', counts[i][j], '\\t%.2f%%' % (float(counts[i][j])/sum(counts[i].values()) * 100)\n",
    "    \n",
    "    precision = counts[i][i]/float(precision_demominator)\n",
    "    recall    = counts[i][i]/float(recall_demominator)\n",
    "    \n",
    "    print\n",
    "    print 'Precision: ', precision * 100\n",
    "    print 'Recall:    ', recall * 100\n",
    "    print 'F1 measure:', 2*precision*recall/float(precision+recall) * 100\n",
    "    print\n",
    "    \n",
    "    result[i] = (np.round(precision * 100, 2),\n",
    "                 np.round(recall * 100, 2),\n",
    "                 np.round(2*precision*recall/float(precision+recall) * 100, 2))"
   ]
  },
  {
   "cell_type": "code",
   "execution_count": 6,
   "metadata": {},
   "outputs": [
    {
     "name": "stdout",
     "output_type": "stream",
     "text": [
      "Accuracy:   0.888518882918\n"
     ]
    }
   ],
   "source": [
    "numerator = 0; denominator = 0\n",
    "\n",
    "for i in tags:\n",
    "    numerator += counts[i][i]\n",
    "    \n",
    "    for j in tags:\n",
    "        denominator += counts[i][j]\n",
    "\n",
    "print 'Accuracy:  ', (numerator)/float(denominator)"
   ]
  },
  {
   "cell_type": "code",
   "execution_count": 7,
   "metadata": {},
   "outputs": [
    {
     "name": "stdout",
     "output_type": "stream",
     "text": [
      "\n",
      "\\multicolumn{1}{|l|}{Precision}  & 98.02  & 22.38 & 42.03 \\\\ \\hline\n",
      "\\multicolumn{1}{|l|}{Recall}     & 90.00  & 71.16 & 72.74 \\\\ \\hline\n",
      "\\multicolumn{1}{|l|}{F1 Measure} & 93.84  & 34.05 & 53.28 \\\\ \\hline\n",
      "\\multicolumn{1}{|l|}{Accuracy}   & \\multicolumn{3}{c|}{88.85} \\\\ \\hline\n"
     ]
    }
   ],
   "source": [
    "print '''\n",
    "\\multicolumn{1}{|l|}{Precision}  & %.2f  & %.2f & %.2f \\\\\\\\ \\hline\n",
    "\\multicolumn{1}{|l|}{Recall}     & %.2f  & %.2f & %.2f \\\\\\\\ \\hline\n",
    "\\multicolumn{1}{|l|}{F1 Measure} & %.2f  & %.2f & %.2f \\\\\\\\ \\hline\n",
    "\\multicolumn{1}{|l|}{Accuracy}   & \\multicolumn{3}{c|}{%.2f} \\\\\\\\ \\hline''' % (result['O'][0], result['T'][0],\n",
    "                                                                 result['D'][0],\n",
    "                                                                 result['O'][1], result['T'][1], result['D'][1],\n",
    "                                                                 result['O'][2], result['T'][2], result['D'][2],\n",
    "                                                                 (numerator)/float(denominator) * 100)"
   ]
  },
  {
   "cell_type": "code",
   "execution_count": null,
   "metadata": {},
   "outputs": [],
   "source": []
  }
 ],
 "metadata": {
  "kernelspec": {
   "display_name": "Python 2",
   "language": "python",
   "name": "python2"
  },
  "language_info": {
   "codemirror_mode": {
    "name": "ipython",
    "version": 2
   },
   "file_extension": ".py",
   "mimetype": "text/x-python",
   "name": "python",
   "nbconvert_exporter": "python",
   "pygments_lexer": "ipython2",
   "version": "2.7.14"
  }
 },
 "nbformat": 4,
 "nbformat_minor": 2
}
