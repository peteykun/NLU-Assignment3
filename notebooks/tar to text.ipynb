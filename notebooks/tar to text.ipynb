{
 "cells": [
  {
   "cell_type": "code",
   "execution_count": 1,
   "metadata": {},
   "outputs": [],
   "source": [
    "import tarfile\n",
    "import xml.etree.ElementTree as ET\n",
    "import tqdm\n",
    "import codecs"
   ]
  },
  {
   "cell_type": "code",
   "execution_count": 8,
   "metadata": {
    "scrolled": false
   },
   "outputs": [
    {
     "name": "stdout",
     "output_type": "stream",
     "text": [
      "AAPS_J/AAPS_J_2010_Jan_8_12(2)_109-116.nxml\n"
     ]
    }
   ],
   "source": [
    "members = []\n",
    "\n",
    "tar = tarfile.open(\"unlabeled.tar.gz\", \"r:gz\")\n",
    "outfile = codecs.open(\"unlabeled.txt\", 'w', 'utf-8')\n",
    "\n",
    "for member in tar:\n",
    "    f = tar.extractfile(member)\n",
    "    \n",
    "    if f is None:\n",
    "        continue\n",
    "    else:\n",
    "        print(member.name)\n",
    "    \n",
    "    root = ET.fromstring(f.read())\n",
    "    \n",
    "    result = ''\n",
    "\n",
    "    for para in root.iter('p'):\n",
    "        result = para.text\n",
    "\n",
    "        for child in para:\n",
    "            if child is not None:\n",
    "                if child.text is not None:\n",
    "                    result += child.text\n",
    "                if child.tail is not None:\n",
    "                    result += child.tail\n",
    "\n",
    "        outfile.write(result)\n",
    "        outfile.flush()\n",
    "        \n",
    "    break"
   ]
  },
  {
   "cell_type": "code",
   "execution_count": 9,
   "metadata": {},
   "outputs": [],
   "source": [
    "tar.close()\n",
    "outfile.close()"
   ]
  }
 ],
 "metadata": {
  "kernelspec": {
   "display_name": "Python 3",
   "language": "python",
   "name": "python3"
  },
  "language_info": {
   "codemirror_mode": {
    "name": "ipython",
    "version": 3
   },
   "file_extension": ".py",
   "mimetype": "text/x-python",
   "name": "python",
   "nbconvert_exporter": "python",
   "pygments_lexer": "ipython3",
   "version": "3.5.2"
  }
 },
 "nbformat": 4,
 "nbformat_minor": 2
}
